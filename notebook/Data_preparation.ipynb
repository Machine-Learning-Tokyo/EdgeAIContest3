{
 "cells": [
  {
   "cell_type": "markdown",
   "metadata": {},
   "source": [
    "### Prepare Dataset for training\n",
    "- 1] Extract Frames from video\n",
    "- 2] Label convertion (yolo / COCOformats)\n",
    "- 3] Display images - "
   ]
  },
  {
   "cell_type": "code",
   "execution_count": 34,
   "metadata": {},
   "outputs": [],
   "source": [
    "import cv2\n",
    "import os, glob"
   ]
  },
  {
   "cell_type": "code",
   "execution_count": 27,
   "metadata": {},
   "outputs": [],
   "source": [
    "def check_directory(path_to):\n",
    "        \"\"\"Check if the saving directory exist, create it if not\"\"\"\n",
    "        if not os.path.isdir(path_to):\n",
    "            os.makedirs(path_to)\n",
    "\n",
    "        if path_to.endswith('/'):\n",
    "            return(path_to)\n",
    "        else:\n",
    "            return(path_to + '/')"
   ]
  },
  {
   "cell_type": "code",
   "execution_count": 32,
   "metadata": {},
   "outputs": [],
   "source": [
    "# Path to data\n",
    "path_to_video_folder = '../data/train_videos/'\n",
    "output_path = '../data/train_images/'\n",
    "output_path = check_directory(output_path)"
   ]
  },
  {
   "cell_type": "code",
   "execution_count": 29,
   "metadata": {},
   "outputs": [
    {
     "name": "stdout",
     "output_type": "stream",
     "text": [
      "25 video to be processed.\n"
     ]
    }
   ],
   "source": [
    "# List of videos\n",
    "list_of_videos = os.listdir(path_to_video_folder)\n",
    "print(\"{} video to be processed.\".format(len(list_of_videos)))"
   ]
  },
  {
   "cell_type": "code",
   "execution_count": null,
   "metadata": {},
   "outputs": [
    {
     "name": "stdout",
     "output_type": "stream",
     "text": [
      "Processing video train_08 ...\n",
      "... extracted 600 frames.\n",
      "Processing video train_16 ...\n",
      "... extracted 600 frames.\n",
      "Processing video train_12 ...\n",
      "... extracted 600 frames.\n",
      "Processing video train_18 ...\n",
      "... extracted 600 frames.\n",
      "Processing video train_01 ...\n",
      "... extracted 600 frames.\n",
      "Processing video train_23 ...\n",
      "... extracted 600 frames.\n",
      "Processing video train_09 ...\n"
     ]
    }
   ],
   "source": [
    "# Loop to extract all the frame\n",
    "for vid in list_of_videos:\n",
    "    vid_name = vid.split('.')[0]\n",
    "    vid_path = path_to_video_folder + vid\n",
    "    vid_output_path = output_path + vid_name\n",
    "    print(\"Processing video {} ...\".format(vid_name))\n",
    "    \n",
    "    # Create sub-folder (maybe not needed?)\n",
    "    vid_output_path = check_directory(vid_output_path)\n",
    "    \n",
    "    # Extract frames\n",
    "    vid_cap = cv2.VideoCapture(vid_path)\n",
    "    \n",
    "    success, frame = vid_cap.read()\n",
    "    frame_id = 0\n",
    "    while success:\n",
    "      cv2.imwrite(vid_output_path + str(frame_id) + '.png', frame)\n",
    "      success, frame = vid_cap.read()\n",
    "      frame_id += 1\n",
    "    print(\"... extracted {} frames.\".format(frame_id))"
   ]
  },
  {
   "cell_type": "code",
   "execution_count": null,
   "metadata": {},
   "outputs": [],
   "source": []
  },
  {
   "cell_type": "code",
   "execution_count": null,
   "metadata": {},
   "outputs": [],
   "source": [
    "### Label generation\n",
    "- yolo:\n",
    "- coco (\"bbox\" : [x,y,width,height])\n"
   ]
  }
 ],
 "metadata": {
  "kernelspec": {
   "display_name": "Python 3",
   "language": "python",
   "name": "python3"
  },
  "language_info": {
   "codemirror_mode": {
    "name": "ipython",
    "version": 3
   },
   "file_extension": ".py",
   "mimetype": "text/x-python",
   "name": "python",
   "nbconvert_exporter": "python",
   "pygments_lexer": "ipython3",
   "version": "3.6.8"
  }
 },
 "nbformat": 4,
 "nbformat_minor": 2
}
