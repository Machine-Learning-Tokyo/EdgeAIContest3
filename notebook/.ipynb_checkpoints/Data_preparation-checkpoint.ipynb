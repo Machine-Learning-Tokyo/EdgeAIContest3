{
 "cells": [
  {
   "cell_type": "markdown",
   "metadata": {},
   "source": [
    "### Prepare Dataset for training\n",
    "- 1] Extract Frames from video\n",
    "- 2] Label convertion (yolo / COCOformats)\n",
    "- 3] Display labels on images - "
   ]
  },
  {
   "cell_type": "code",
   "execution_count": 34,
   "metadata": {},
   "outputs": [],
   "source": [
    "import cv2\n",
    "import os, glob"
   ]
  },
  {
   "cell_type": "code",
   "execution_count": 27,
   "metadata": {},
   "outputs": [],
   "source": [
    "def check_directory(path_to):\n",
    "        \"\"\"Check if the saving directory exist, create it if not\"\"\"\n",
    "        if not os.path.isdir(path_to):\n",
    "            os.makedirs(path_to)\n",
    "\n",
    "        if path_to.endswith('/'):\n",
    "            return(path_to)\n",
    "        else:\n",
    "            return(path_to + '/')"
   ]
  },
  {
   "cell_type": "code",
   "execution_count": 32,
   "metadata": {},
   "outputs": [],
   "source": [
    "# Path to data\n",
    "path_to_video_folder = '../data/train_videos/'\n",
    "output_path = '../data/train_images/'\n",
    "output_path = check_directory(output_path)"
   ]
  },
  {
   "cell_type": "code",
   "execution_count": 29,
   "metadata": {},
   "outputs": [
    {
     "name": "stdout",
     "output_type": "stream",
     "text": [
      "25 video to be processed.\n"
     ]
    }
   ],
   "source": [
    "# List of videos\n",
    "list_of_videos = os.listdir(path_to_video_folder)\n",
    "print(\"{} video to be processed.\".format(len(list_of_videos)))"
   ]
  },
  {
   "cell_type": "code",
   "execution_count": 41,
   "metadata": {},
   "outputs": [
    {
     "name": "stdout",
     "output_type": "stream",
     "text": [
      "Processing video train_08 ...\n",
      "... extracted 600 frames.\n",
      "Processing video train_16 ...\n",
      "... extracted 600 frames.\n",
      "Processing video train_12 ...\n",
      "... extracted 600 frames.\n",
      "Processing video train_18 ...\n",
      "... extracted 600 frames.\n",
      "Processing video train_01 ...\n",
      "... extracted 600 frames.\n",
      "Processing video train_23 ...\n",
      "... extracted 600 frames.\n",
      "Processing video train_09 ...\n",
      "... extracted 600 frames.\n",
      "Processing video train_17 ...\n",
      "... extracted 600 frames.\n",
      "Processing video train_07 ...\n",
      "... extracted 600 frames.\n",
      "Processing video train_20 ...\n",
      "... extracted 600 frames.\n",
      "Processing video train_19 ...\n",
      "... extracted 600 frames.\n",
      "Processing video train_13 ...\n",
      "... extracted 600 frames.\n",
      "Processing video train_24 ...\n",
      "... extracted 600 frames.\n",
      "Processing video train_22 ...\n",
      "... extracted 600 frames.\n",
      "Processing video train_21 ...\n",
      "... extracted 600 frames.\n",
      "Processing video train_06 ...\n",
      "... extracted 600 frames.\n",
      "Processing video train_15 ...\n",
      "... extracted 600 frames.\n",
      "Processing video train_03 ...\n",
      "... extracted 600 frames.\n",
      "Processing video train_00 ...\n",
      "... extracted 600 frames.\n",
      "Processing video train_14 ...\n",
      "... extracted 600 frames.\n",
      "Processing video train_10 ...\n",
      "... extracted 600 frames.\n",
      "Processing video train_04 ...\n",
      "... extracted 600 frames.\n",
      "Processing video train_11 ...\n",
      "... extracted 600 frames.\n",
      "Processing video train_05 ...\n",
      "... extracted 600 frames.\n",
      "Processing video train_02 ...\n",
      "... extracted 600 frames.\n"
     ]
    }
   ],
   "source": [
    "# Loop to extract all the frame\n",
    "for vid in list_of_videos:\n",
    "    vid_name = vid.split('.')[0]\n",
    "    vid_path = path_to_video_folder + vid\n",
    "    vid_output_path = output_path + vid_name\n",
    "    print(\"Processing video {} ...\".format(vid_name))\n",
    "    \n",
    "    # Create sub-folder (maybe not needed?)\n",
    "    vid_output_path = check_directory(vid_output_path)\n",
    "    \n",
    "    # Extract frames\n",
    "    vid_cap = cv2.VideoCapture(vid_path)\n",
    "    \n",
    "    success, frame = vid_cap.read()\n",
    "    frame_id = 0\n",
    "    while success:\n",
    "      cv2.imwrite(vid_output_path + str(frame_id) + '.png', frame)\n",
    "      success, frame = vid_cap.read()\n",
    "      frame_id += 1\n",
    "    print(\"... extracted {} frames.\".format(frame_id))"
   ]
  },
  {
   "cell_type": "markdown",
   "metadata": {},
   "source": [
    "### Label generation\n",
    "- coco: \"bbox\" : [x,y,width,height]\n",
    "- yolo: \"bbox\" : [x, y,width,height] normalize over image size\n",
    "- VOC ?\n",
    "\n",
    "COCO links:\n",
    "\n",
    "- [coco_lib](https://github.com/waspinator/pycococreator/blob/master/pycococreatortools/pycococreatortools.py)\n",
    "- [generator_example 1](https://github.com/waspinator/pycococreator/blob/master/examples/shapes/shapes_to_coco.py)\n",
    "- [format explained](https://www.immersivelimit.com/tutorials/create-coco-annotations-from-scratch/#coco-dataset-format)\n",
    "- [generator example 2](https://patrickwasp.com/create-your-own-coco-style-dataset/)\n",
    "- [simple visualisation](https://github.com/waspinator/pycococreator/blob/master/examples/shapes/visualize_coco.ipynb)\n"
   ]
  },
  {
   "cell_type": "code",
   "execution_count": 43,
   "metadata": {},
   "outputs": [],
   "source": [
    "# Load annotations\n"
   ]
  },
  {
   "cell_type": "code",
   "execution_count": 44,
   "metadata": {},
   "outputs": [],
   "source": [
    "# COCO dataset global\n",
    "INFO = {\n",
    "    \"description\": \"AI on edge dataset\",\n",
    "    \"url\": \"https://signate.jp/competitions/256/data\",\n",
    "    \"version\": \"0.1\",\n",
    "    \"year\": 2020,\n",
    "    \"contributor\": \"MLT\",\n",
    "    \"date_created\": \"2020/05\"\n",
    "}\n",
    "\n",
    "LICENSES = [\n",
    "    {\n",
    "        \"id\": 1,\n",
    "        \"name\": \"Attribution-NonCommercial-ShareAlike License\",\n",
    "        \"url\": \"http://creativecommons.org/licenses/by-nc-sa/2.0/\"\n",
    "    }\n",
    "]\n",
    "\n",
    "CATEGORIES = [\n",
    "    {\n",
    "        'id': 1,\n",
    "        'name': 'Car',\n",
    "        'supercategory': 'on_road',\n",
    "    },\n",
    "    {\n",
    "        'id': 2,\n",
    "        'name': 'Pedestrian',\n",
    "        'supercategory': 'on_street',\n",
    "    },\n",
    "    {\n",
    "        'id': 3,\n",
    "        'name': 'Truck',\n",
    "        'supercategory': 'on_road',\n",
    "    },\n",
    "    {\n",
    "        'id': 4,\n",
    "        'name': 'Signal',\n",
    "        'supercategory': 'on_road',\n",
    "    },\n",
    "    {\n",
    "        'id': 5,\n",
    "        'name': 'Signs',\n",
    "        'supercategory': 'on_road',\n",
    "    },\n",
    "    {\n",
    "        'id': 6,\n",
    "        'name': 'Bicycle',\n",
    "        'supercategory': 'on_road',\n",
    "    },\n",
    "    {\n",
    "        'id': 7,\n",
    "        'name': 'Motorbike',\n",
    "        'supercategory': 'on_road',\n",
    "    },\n",
    "    {\n",
    "        'id': 8,\n",
    "        'name': 'Bus',\n",
    "        'supercategory': 'on_road',\n",
    "    },\n",
    "    {\n",
    "        'id': 9,\n",
    "        'name': 'Svehicle',\n",
    "        'supercategory': 'on_road',\n",
    "    },\n",
    "    {\n",
    "        'id': 10,\n",
    "        'name': 'Train',\n",
    "        'supercategory': 'on_road',\n",
    "    },\n",
    "]"
   ]
  },
  {
   "cell_type": "code",
   "execution_count": 46,
   "metadata": {},
   "outputs": [],
   "source": [
    "coco_output = {\n",
    "        \"info\": INFO,\n",
    "        \"licenses\": LICENSES,\n",
    "        \"categories\": CATEGORIES,\n",
    "        \"images\": [],\n",
    "        \"annotations\": []\n",
    "    }"
   ]
  },
  {
   "cell_type": "code",
   "execution_count": null,
   "metadata": {},
   "outputs": [],
   "source": [
    "# COCO field generation:\n",
    "def generate_image_inf0(image_id, file_name):\n",
    "    \"\"\"Generate information related to image.\"\"\"\n",
    "    image_info = {\n",
    "            \"id\": image_id,\n",
    "            \"file_name\": file_name,\n",
    "            \"width\": image_size[0],\n",
    "            \"height\": image_size[1],\n",
    "            \"date_captured\": \"unknown\",\n",
    "            \"license\": 0,\n",
    "            \"coco_url\": \"https://signate.jp/competitions/256/data\",\n",
    "            \"flickr_url\": \"https://signate.jp/competitions/256/data\"\n",
    "    }\n",
    "\n",
    "    return image_info\n",
    "\n",
    "def generate_annotation_info(image_id, bbox, category_id, tracking_id):\n",
    "    \"\"\"Generate information related to annotation.\"\"\"\n",
    "    \n",
    "    annot_info = {\n",
    "            \"segmentation\": [],\n",
    "            \"area\": ,\n",
    "            \"iscrowd\": 0,\n",
    "            \"image_id\": image_id,\n",
    "            \"bbox\": bbox,\n",
    "            \"category_id\": category_id,\n",
    "            \"id\": tracking_id\n",
    "    }\n",
    "    \n",
    "    return annot_info"
   ]
  }
 ],
 "metadata": {
  "kernelspec": {
   "display_name": "Python 3",
   "language": "python",
   "name": "python3"
  },
  "language_info": {
   "codemirror_mode": {
    "name": "ipython",
    "version": 3
   },
   "file_extension": ".py",
   "mimetype": "text/x-python",
   "name": "python",
   "nbconvert_exporter": "python",
   "pygments_lexer": "ipython3",
   "version": "3.6.8"
  }
 },
 "nbformat": 4,
 "nbformat_minor": 2
}
