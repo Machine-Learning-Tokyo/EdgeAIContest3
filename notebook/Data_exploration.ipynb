{
 "cells": [
  {
   "cell_type": "markdown",
   "metadata": {},
   "source": [
    "## Data exploration:\n",
    "1. Extract json content to dataframe (panda)\n",
    "2. Basic statictics analysis on the data\n",
    "3. Conclusion"
   ]
  },
  {
   "cell_type": "markdown",
   "metadata": {},
   "source": [
    "### Usefull links\n",
    "- [dataset](https://signate.jp/competitions/256/data)\n",
    "- [signate tuto](https://signate.jp/competitions/142/tutorials/9)\n",
    "- [frame extraction - signate](https://signate.jp/competitions/256/discussions/tutorial-how-to-decode-the-training-videos-to-training-images)\n",
    "- [frame label to yolo format-signate](https://signate.jp/competitions/256/discussions/tutorial-how-to-convert-labels-from-multiple-jsons-to-a-single-txt-file)\n",
    "- [panda and list as cat](https://stackoverflow.com/questions/37125174/accessing-every-1st-element-of-pandas-dataframe-column-containing-lists)\n",
    "- [team google docs](https://docs.google.com/document/d/1UPNw9wHmnnpVCJI8LBmBkJG1lyKzn-Hhh1flNZ5k2Eo/edit)"
   ]
  },
  {
   "cell_type": "code",
   "execution_count": 1,
   "metadata": {},
   "outputs": [],
   "source": [
    "import os\n",
    "import pandas as pd\n",
    "import numpy as np\n",
    "import json"
   ]
  },
  {
   "cell_type": "markdown",
   "metadata": {},
   "source": [
    "### 1] Extract json to dataframe"
   ]
  },
  {
   "cell_type": "code",
   "execution_count": 2,
   "metadata": {},
   "outputs": [],
   "source": [
    "# Generate one file for all video\n",
    "## Get absolute path / or specify path for data\n",
    "_path_for_data = os.getcwd()\n",
    "train_annotations_path = os.path.join(_path_for_data, 'train_annotations')\n",
    "train_annotations_files = os.listdir(train_annotations_path)"
   ]
  },
  {
   "cell_type": "code",
   "execution_count": 3,
   "metadata": {},
   "outputs": [],
   "source": [
    "# Global parameters (note the spelling on Svehicle)\n",
    "IMAGE_SIZE = (1936,1216)\n",
    "IMAGE_AREA = IMAGE_SIZE[0]*IMAGE_SIZE[1]\n",
    "CATEGORIES = ['Car', 'Pedestrian', 'Truck', 'Signal', 'Signs', 'Bicycle', 'Motorbike', 'Bus', 'Svehicle', 'Train']\n",
    "\n",
    "# Dataframe content:\n",
    "column_names = [\"video_id\", \"frame_id\", \"detected_cat\", \"tracking_id\", \"bbox\"]\n",
    "annot_df = pd.DataFrame(columns = column_names)"
   ]
  },
  {
   "cell_type": "markdown",
   "metadata": {},
   "source": [
    "Extract of 1 video by 1 video, because 600x25 is too heavy to process as once.\n",
    "\n",
    "Here we extract in order::\n",
    "1. The frames\n",
    "2. The frame_id\n",
    "3. The detected category\n",
    "4. Tracking index and bbox"
   ]
  },
  {
   "cell_type": "code",
   "execution_count": 4,
   "metadata": {},
   "outputs": [],
   "source": [
    "def extract_frame(frame, content_list, video_id, frame_id):\n",
    "    \"\"\"Extract the content of the frame into the df dataframe.\"\"\"\n",
    "    for classe in CATEGORIES:\n",
    "        try:\n",
    "            for detected_cat in frame[classe]:\n",
    "                # Add line to df\n",
    "                content_list.append({\"video_id\":video_id, \n",
    "                                    \"frame_id\":frame_id,\n",
    "                                    \"detected_cat\":classe, \n",
    "                                    \"tracking_id\":detected_cat['id'], \n",
    "                                    \"bbox\":detected_cat['box2d']})\n",
    "        except Exception as e:\n",
    "            pass"
   ]
  },
  {
   "cell_type": "code",
   "execution_count": 5,
   "metadata": {},
   "outputs": [
    {
     "name": "stdout",
     "output_type": "stream",
     "text": [
      "Extracting video train_09 a total of 600 frames...\n",
      "...Done!\n",
      "Extracting video train_01 a total of 600 frames...\n",
      "...Done!\n",
      "Extracting video train_10 a total of 600 frames...\n",
      "...Done!\n",
      "Extracting video train_13 a total of 600 frames...\n",
      "...Done!\n",
      "Extracting video train_06 a total of 600 frames...\n",
      "...Done!\n",
      "Extracting video train_14 a total of 600 frames...\n",
      "...Done!\n",
      "Extracting video train_23 a total of 600 frames...\n",
      "...Done!\n",
      "Extracting video train_12 a total of 600 frames...\n",
      "...Done!\n",
      "Extracting video train_02 a total of 600 frames...\n",
      "...Done!\n",
      "Extracting video train_24 a total of 600 frames...\n",
      "...Done!\n",
      "Extracting video train_00 a total of 600 frames...\n",
      "...Done!\n",
      "Extracting video train_21 a total of 600 frames...\n",
      "...Done!\n",
      "Extracting video train_07 a total of 600 frames...\n",
      "...Done!\n",
      "Extracting video train_16 a total of 600 frames...\n",
      "...Done!\n",
      "Extracting video train_03 a total of 600 frames...\n",
      "...Done!\n",
      "Extracting video train_05 a total of 600 frames...\n",
      "...Done!\n",
      "Extracting video train_11 a total of 600 frames...\n",
      "...Done!\n",
      "Extracting video train_22 a total of 600 frames...\n",
      "...Done!\n",
      "Extracting video train_08 a total of 600 frames...\n",
      "...Done!\n",
      "Extracting video train_20 a total of 600 frames...\n",
      "...Done!\n",
      "Extracting video train_04 a total of 600 frames...\n",
      "...Done!\n",
      "Extracting video train_17 a total of 600 frames...\n",
      "...Done!\n",
      "Extracting video train_19 a total of 600 frames...\n",
      "...Done!\n",
      "Extracting video train_18 a total of 600 frames...\n",
      "...Done!\n",
      "Extracting video train_15 a total of 600 frames...\n",
      "...Done!\n"
     ]
    }
   ],
   "source": [
    "# Select the video to explore:\n",
    "train_annotations_file = train_annotations_files[2]\n",
    "\n",
    "for train_annotations_file in train_annotations_files:\n",
    "    content_list = []\n",
    "    with open(os.path.join(train_annotations_path, train_annotations_file)) as f:\n",
    "        video_id = train_annotations_file.split('/')[-1].split('\\\\')[-1].split('.')[0].split('_')[1]\n",
    "\n",
    "        # Load json and split frame\n",
    "        annotation = json.load(f)\n",
    "        frames = annotation[\"sequence\"]\n",
    "        print(\"Extracting video train_{} a total of {} frames...\".format(video_id, len(frames)))\n",
    "\n",
    "        # Extract each frame content into dataset\n",
    "        for frame_id, frame in enumerate(frames):\n",
    "            extract_frame(frame, content_list, video_id, frame_id)\n",
    "\n",
    "        # Writting in the dataframe\n",
    "        annot_df = annot_df.append(content_list)\n",
    "        print(\"...Done!\")"
   ]
  },
  {
   "cell_type": "markdown",
   "metadata": {},
   "source": [
    "### 3] WIP Basic exploration"
   ]
  },
  {
   "cell_type": "code",
   "execution_count": 6,
   "metadata": {},
   "outputs": [],
   "source": [
    "import matplotlib.pyplot as plt\n",
    "import seaborn as sns"
   ]
  },
  {
   "cell_type": "code",
   "execution_count": 7,
   "metadata": {},
   "outputs": [
    {
     "name": "stdout",
     "output_type": "stream",
     "text": [
      "Shape of Dataframe: (306057, 5)\n",
      "<class 'pandas.core.frame.DataFrame'>\n",
      "Int64Index: 306057 entries, 0 to 7118\n",
      "Data columns (total 5 columns):\n",
      "video_id        306057 non-null object\n",
      "frame_id        306057 non-null object\n",
      "detected_cat    306057 non-null object\n",
      "tracking_id     306057 non-null object\n",
      "bbox            306057 non-null object\n",
      "dtypes: object(5)\n",
      "memory usage: 14.0+ MB\n",
      "None\n"
     ]
    }
   ],
   "source": [
    "print(\"Shape of Dataframe: {}\".format(annot_df.shape))\n",
    "print(annot_df.info())"
   ]
  },
  {
   "cell_type": "code",
   "execution_count": 8,
   "metadata": {},
   "outputs": [],
   "source": [
    "# Generate area and ratio features\n",
    "annot_df['area'] = (annot_df.bbox.str[2] - annot_df.bbox.str[0])*(annot_df.bbox.str[3] - annot_df.bbox.str[1])\n",
    "annot_df['ratio'] = round(annot_df['area'] / IMAGE_AREA * 100, 4) "
   ]
  },
  {
   "cell_type": "code",
   "execution_count": 9,
   "metadata": {},
   "outputs": [
    {
     "data": {
      "text/html": [
       "<div>\n",
       "<style scoped>\n",
       "    .dataframe tbody tr th:only-of-type {\n",
       "        vertical-align: middle;\n",
       "    }\n",
       "\n",
       "    .dataframe tbody tr th {\n",
       "        vertical-align: top;\n",
       "    }\n",
       "\n",
       "    .dataframe thead th {\n",
       "        text-align: right;\n",
       "    }\n",
       "</style>\n",
       "<table border=\"1\" class=\"dataframe\">\n",
       "  <thead>\n",
       "    <tr style=\"text-align: right;\">\n",
       "      <th></th>\n",
       "      <th>video_id</th>\n",
       "      <th>frame_id</th>\n",
       "      <th>detected_cat</th>\n",
       "      <th>tracking_id</th>\n",
       "      <th>bbox</th>\n",
       "      <th>area</th>\n",
       "      <th>ratio</th>\n",
       "    </tr>\n",
       "  </thead>\n",
       "  <tbody>\n",
       "    <tr>\n",
       "      <th>0</th>\n",
       "      <td>09</td>\n",
       "      <td>0</td>\n",
       "      <td>Car</td>\n",
       "      <td>5598</td>\n",
       "      <td>[1825, 577, 1935, 671]</td>\n",
       "      <td>10340</td>\n",
       "      <td>0.4392</td>\n",
       "    </tr>\n",
       "    <tr>\n",
       "      <th>1</th>\n",
       "      <td>09</td>\n",
       "      <td>0</td>\n",
       "      <td>Car</td>\n",
       "      <td>5538</td>\n",
       "      <td>[1181, 486, 1762, 897]</td>\n",
       "      <td>238791</td>\n",
       "      <td>10.1433</td>\n",
       "    </tr>\n",
       "    <tr>\n",
       "      <th>2</th>\n",
       "      <td>09</td>\n",
       "      <td>0</td>\n",
       "      <td>Car</td>\n",
       "      <td>5597</td>\n",
       "      <td>[1099, 579, 1196, 713]</td>\n",
       "      <td>12998</td>\n",
       "      <td>0.5521</td>\n",
       "    </tr>\n",
       "    <tr>\n",
       "      <th>3</th>\n",
       "      <td>09</td>\n",
       "      <td>0</td>\n",
       "      <td>Car</td>\n",
       "      <td>5502</td>\n",
       "      <td>[812, 583, 1088, 820]</td>\n",
       "      <td>65412</td>\n",
       "      <td>2.7786</td>\n",
       "    </tr>\n",
       "    <tr>\n",
       "      <th>4</th>\n",
       "      <td>09</td>\n",
       "      <td>0</td>\n",
       "      <td>Car</td>\n",
       "      <td>5596</td>\n",
       "      <td>[1047, 552, 1158, 660]</td>\n",
       "      <td>11988</td>\n",
       "      <td>0.5092</td>\n",
       "    </tr>\n",
       "  </tbody>\n",
       "</table>\n",
       "</div>"
      ],
      "text/plain": [
       "  video_id frame_id detected_cat tracking_id                    bbox    area  \\\n",
       "0       09        0          Car        5598  [1825, 577, 1935, 671]   10340   \n",
       "1       09        0          Car        5538  [1181, 486, 1762, 897]  238791   \n",
       "2       09        0          Car        5597  [1099, 579, 1196, 713]   12998   \n",
       "3       09        0          Car        5502   [812, 583, 1088, 820]   65412   \n",
       "4       09        0          Car        5596  [1047, 552, 1158, 660]   11988   \n",
       "\n",
       "     ratio  \n",
       "0   0.4392  \n",
       "1  10.1433  \n",
       "2   0.5521  \n",
       "3   2.7786  \n",
       "4   0.5092  "
      ]
     },
     "execution_count": 9,
     "metadata": {},
     "output_type": "execute_result"
    }
   ],
   "source": [
    "annot_df.head()"
   ]
  },
  {
   "cell_type": "code",
   "execution_count": 10,
   "metadata": {},
   "outputs": [],
   "source": [
    "annot_df.to_csv(_path_for_data + '/annot_df.csv')"
   ]
  },
  {
   "cell_type": "code",
   "execution_count": 11,
   "metadata": {},
   "outputs": [],
   "source": [
    "# Analysis for 1 video\n",
    "# Find the importante features to extract and then run on all video\n",
    "selected_video = annot_df.loc[annot_df.video_id=='15']"
   ]
  },
  {
   "cell_type": "code",
   "execution_count": 12,
   "metadata": {},
   "outputs": [
    {
     "name": "stdout",
     "output_type": "stream",
     "text": [
      "Detection by frame: average: 11.865 | max: 30 | min: 2\n"
     ]
    }
   ],
   "source": [
    "# How many object by frame ?\n",
    "max_detected = selected_video.groupby(['video_id','frame_id']).detected_cat.count().max()\n",
    "min_detected = selected_video.groupby('frame_id').detected_cat.count().min()\n",
    "ave_detected = selected_video.groupby('frame_id').detected_cat.count().mean()\n",
    "print(\"Detection by frame: average: {} | max: {} | min: {}\".format(ave_detected, max_detected, min_detected))"
   ]
  },
  {
   "cell_type": "code",
   "execution_count": 13,
   "metadata": {},
   "outputs": [
    {
     "data": {
      "text/plain": [
       "<matplotlib.axes._subplots.AxesSubplot at 0x7fe9b65ced30>"
      ]
     },
     "execution_count": 13,
     "metadata": {},
     "output_type": "execute_result"
    },
    {
     "data": {
      "image/png": "[encoded data removed]",
      "text/plain": [
       "<Figure size 432x288 with 1 Axes>"
      ]
     },
     "metadata": {
      "needs_background": "light"
     },
     "output_type": "display_data"
    }
   ],
   "source": [
    "selected_video['detected_cat'].value_counts().plot(kind='bar',x='cat',y='count', title=\"Detected on all video - tracking id ignored\")"
   ]
  },
  {
   "cell_type": "code",
   "execution_count": 14,
   "metadata": {},
   "outputs": [
    {
     "data": {
      "text/plain": [
       "detected_cat\n",
       "Bicycle       0.257220\n",
       "Car           0.610580\n",
       "Motorbike     0.324608\n",
       "Pedestrian    0.066993\n",
       "Signal        0.069684\n",
       "Signs         0.061132\n",
       "Svehicle      0.934417\n",
       "Truck         1.024672\n",
       "Name: ratio, dtype: float64"
      ]
     },
     "execution_count": 14,
     "metadata": {},
     "output_type": "execute_result"
    }
   ],
   "source": [
    "# Average ratio bbox by class\n",
    "selected_video.groupby('detected_cat').ratio.mean()"
   ]
  },
  {
   "cell_type": "code",
   "execution_count": 15,
   "metadata": {},
   "outputs": [
    {
     "name": "stdout",
     "output_type": "stream",
     "text": [
      "This video contains 378 distincs objects\n"
     ]
    }
   ],
   "source": [
    "# Find unique ID\n",
    "unique_id = selected_video['tracking_id'].nunique()\n",
    "print(\"This video contains {} distincs objects\".format(unique_id))"
   ]
  },
  {
   "cell_type": "code",
   "execution_count": 16,
   "metadata": {
    "scrolled": true
   },
   "outputs": [
    {
     "name": "stdout",
     "output_type": "stream",
     "text": [
      "There are 54 objects that are not repeated more than 3 times.\n"
     ]
    }
   ],
   "source": [
    "# Count repeated tracking id\n",
    "# \"Objects with 3 or more frames in each video\"\n",
    "reapeate_more_than_3 = selected_video.groupby('tracking_id').tracking_id.count().apply(lambda x: True if x>2 else False)\n",
    "print(\"There are {} objects that are not repeated more than 3 times.\".format(reapeate_more_than_3.values.tolist().count(False)))"
   ]
  },
  {
   "cell_type": "code",
   "execution_count": 17,
   "metadata": {},
   "outputs": [
    {
     "data": {
      "text/plain": [
       "tracking_id\n",
       "5686    238\n",
       "6000    208\n",
       "216     116\n",
       "215     113\n",
       "206     107\n",
       "204     100\n",
       "686      94\n",
       "687      94\n",
       "5978     92\n",
       "5992     78\n",
       "Name: tracking_id, dtype: int64"
      ]
     },
     "execution_count": 17,
     "metadata": {},
     "output_type": "execute_result"
    }
   ],
   "source": [
    "# Longuest repeatition\n",
    "selected_video.groupby('tracking_id').tracking_id.count().nlargest(10)"
   ]
  },
  {
   "cell_type": "code",
   "execution_count": 18,
   "metadata": {},
   "outputs": [
    {
     "name": "stdout",
     "output_type": "stream",
     "text": [
      "One car is tracked in all frame of the video - maybe need to check the video\n"
     ]
    },
    {
     "data": {
      "text/html": [
       "<div>\n",
       "<style scoped>\n",
       "    .dataframe tbody tr th:only-of-type {\n",
       "        vertical-align: middle;\n",
       "    }\n",
       "\n",
       "    .dataframe tbody tr th {\n",
       "        vertical-align: top;\n",
       "    }\n",
       "\n",
       "    .dataframe thead th {\n",
       "        text-align: right;\n",
       "    }\n",
       "</style>\n",
       "<table border=\"1\" class=\"dataframe\">\n",
       "  <thead>\n",
       "    <tr style=\"text-align: right;\">\n",
       "      <th></th>\n",
       "      <th>video_id</th>\n",
       "      <th>frame_id</th>\n",
       "      <th>detected_cat</th>\n",
       "      <th>tracking_id</th>\n",
       "      <th>bbox</th>\n",
       "      <th>area</th>\n",
       "      <th>ratio</th>\n",
       "    </tr>\n",
       "  </thead>\n",
       "  <tbody>\n",
       "    <tr>\n",
       "      <th>0</th>\n",
       "      <td>15</td>\n",
       "      <td>0</td>\n",
       "      <td>Car</td>\n",
       "      <td>5686</td>\n",
       "      <td>[879, 593, 1150, 812]</td>\n",
       "      <td>59349</td>\n",
       "      <td>2.5210</td>\n",
       "    </tr>\n",
       "    <tr>\n",
       "      <th>3</th>\n",
       "      <td>15</td>\n",
       "      <td>1</td>\n",
       "      <td>Car</td>\n",
       "      <td>5686</td>\n",
       "      <td>[875, 594, 1150, 807]</td>\n",
       "      <td>58575</td>\n",
       "      <td>2.4881</td>\n",
       "    </tr>\n",
       "    <tr>\n",
       "      <th>5</th>\n",
       "      <td>15</td>\n",
       "      <td>2</td>\n",
       "      <td>Car</td>\n",
       "      <td>5686</td>\n",
       "      <td>[873, 592, 1147, 813]</td>\n",
       "      <td>60554</td>\n",
       "      <td>2.5722</td>\n",
       "    </tr>\n",
       "    <tr>\n",
       "      <th>7</th>\n",
       "      <td>15</td>\n",
       "      <td>3</td>\n",
       "      <td>Car</td>\n",
       "      <td>5686</td>\n",
       "      <td>[873, 594, 1149, 808]</td>\n",
       "      <td>59064</td>\n",
       "      <td>2.5089</td>\n",
       "    </tr>\n",
       "    <tr>\n",
       "      <th>10</th>\n",
       "      <td>15</td>\n",
       "      <td>4</td>\n",
       "      <td>Car</td>\n",
       "      <td>5686</td>\n",
       "      <td>[879, 592, 1150, 809]</td>\n",
       "      <td>58807</td>\n",
       "      <td>2.4980</td>\n",
       "    </tr>\n",
       "  </tbody>\n",
       "</table>\n",
       "</div>"
      ],
      "text/plain": [
       "   video_id frame_id detected_cat tracking_id                   bbox   area  \\\n",
       "0        15        0          Car        5686  [879, 593, 1150, 812]  59349   \n",
       "3        15        1          Car        5686  [875, 594, 1150, 807]  58575   \n",
       "5        15        2          Car        5686  [873, 592, 1147, 813]  60554   \n",
       "7        15        3          Car        5686  [873, 594, 1149, 808]  59064   \n",
       "10       15        4          Car        5686  [879, 592, 1150, 809]  58807   \n",
       "\n",
       "     ratio  \n",
       "0   2.5210  \n",
       "3   2.4881  \n",
       "5   2.5722  \n",
       "7   2.5089  \n",
       "10  2.4980  "
      ]
     },
     "execution_count": 18,
     "metadata": {},
     "output_type": "execute_result"
    }
   ],
   "source": [
    "print(\"One car is tracked in all frame of the video - maybe need to check the video\")\n",
    "selected_video.loc[selected_video['tracking_id'] == 5686].head()"
   ]
  },
  {
   "cell_type": "code",
   "execution_count": 19,
   "metadata": {},
   "outputs": [],
   "source": [
    "# Other analysis?\n",
    "# - tracking id lenght / class\n",
    "# - ??"
   ]
  }
 ],
 "metadata": {
  "kernelspec": {
   "display_name": "Python 3",
   "language": "python",
   "name": "python3"
  },
  "language_info": {
   "codemirror_mode": {
    "name": "ipython",
    "version": 3
   },
   "file_extension": ".py",
   "mimetype": "text/x-python",
   "name": "python",
   "nbconvert_exporter": "python",
   "pygments_lexer": "ipython3",
   "version": "3.6.8"
  }
 },
 "nbformat": 4,
 "nbformat_minor": 2
}
