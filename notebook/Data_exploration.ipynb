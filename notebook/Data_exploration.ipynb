{
 "cells": [
  {
   "cell_type": "markdown",
   "metadata": {},
   "source": [
    "## Data exploration:\n",
    "1. Extract json content to dataframe (panda)\n",
    "2. Basic statictics analysis on the data\n",
    "3. Conclusion"
   ]
  },
  {
   "cell_type": "markdown",
   "metadata": {},
   "source": [
    "### Usefull links\n",
    "- [dataset](https://signate.jp/competitions/256/data)\n",
    "- [signate tuto](https://signate.jp/competitions/142/tutorials/9)\n",
    "- [frame extraction - signate](https://signate.jp/competitions/256/discussions/tutorial-how-to-decode-the-training-videos-to-training-images)\n",
    "- [frame label to yolo format-signate](https://signate.jp/competitions/256/discussions/tutorial-how-to-convert-labels-from-multiple-jsons-to-a-single-txt-file)\n",
    "- [panda and list as cat](https://stackoverflow.com/questions/37125174/accessing-every-1st-element-of-pandas-dataframe-column-containing-lists)\n",
    "- [team google docs](https://docs.google.com/document/d/1UPNw9wHmnnpVCJI8LBmBkJG1lyKzn-Hhh1flNZ5k2Eo/edit)"
   ]
  },
  {
   "cell_type": "code",
   "execution_count": 1,
   "metadata": {},
   "outputs": [],
   "source": [
    "import os\n",
    "import pandas as pd\n",
    "import numpy as np\n",
    "import json"
   ]
  },
  {
   "cell_type": "markdown",
   "metadata": {},
   "source": [
    "### 1] Extract json to dataframe"
   ]
  },
  {
   "cell_type": "code",
   "execution_count": 2,
   "metadata": {},
   "outputs": [],
   "source": [
    "# Generate one file for all video\n",
    "## Get absolute path / or specify path for data\n",
    "_path_for_data = os.getcwd()\n",
    "train_annotations_path = os.path.join(_path_for_data, 'train_annotations')\n",
    "train_annotations_files = os.listdir(train_annotations_path)"
   ]
  },
  {
   "cell_type": "code",
   "execution_count": 3,
   "metadata": {},
   "outputs": [],
   "source": [
    "# Global parameters (note the spelling on Svehicle)\n",
    "IMAGE_SIZE = (1936,1216)\n",
    "IMAGE_AREA = IMAGE_SIZE[0]*IMAGE_SIZE[1]\n",
    "CATEGORIES = ['Car', 'Pedestrian', 'Truck', 'Signal', 'Signs', 'Bicycle', 'Motorbike', 'Bus', 'Svehicle', 'Train']\n",
    "\n",
    "# Dataframe content:\n",
    "column_names = [\"video_id\", \"frame_id\", \"detected_cat\", \"tracking_id\", \"bbox\"]\n",
    "annot_df = pd.DataFrame(columns = column_names)"
   ]
  },
  {
   "cell_type": "markdown",
   "metadata": {},
   "source": [
    "Extract of 1 video by 1 video, because 600x25 is too heavy to process as once.\n",
    "\n",
    "Here we extract in order::\n",
    "1. The frames\n",
    "2. The frame_id\n",
    "3. The detected category\n",
    "4. Tracking index and bbox"
   ]
  },
  {
   "cell_type": "code",
   "execution_count": 4,
   "metadata": {},
   "outputs": [],
   "source": [
    "def extract_frame(frame, content_list, video_id, frame_id):\n",
    "    \"\"\"Extract the content of the frame into the df dataframe.\"\"\"\n",
    "    for classe in CATEGORIES:\n",
    "        try:\n",
    "            for detected_cat in frame[classe]:\n",
    "                # Add line to df\n",
    "                content_list.append({\"video_id\":video_id, \n",
    "                                    \"frame_id\":frame_id,\n",
    "                                    \"detected_cat\":classe, \n",
    "                                    \"tracking_id\":detected_cat['id'], \n",
    "                                    \"bbox\":detected_cat['box2d']})\n",
    "        except Exception as e:\n",
    "            pass"
   ]
  },
  {
   "cell_type": "code",
   "execution_count": 5,
   "metadata": {},
   "outputs": [
    {
     "name": "stdout",
     "output_type": "stream",
     "text": [
      "Extracting video train_10 a total of 600 frames...\n",
      "...Done!\n"
     ]
    }
   ],
   "source": [
    "# Select the video to explore:\n",
    "train_annotations_file = train_annotations_files[2]\n",
    "content_list = []\n",
    "\n",
    "with open(os.path.join(train_annotations_path, train_annotations_file)) as f:\n",
    "    video_id = train_annotations_file.split('/')[-1].split('\\\\')[-1].split('.')[0].split('_')[1]\n",
    "    \n",
    "    # Load json and split frame\n",
    "    annotation = json.load(f)\n",
    "    frames = annotation[\"sequence\"]\n",
    "    print(\"Extracting video train_{} a total of {} frames...\".format(video_id, len(frames)))\n",
    "\n",
    "    # Extract each frame content into dataset\n",
    "    for frame_id, frame in enumerate(frames):\n",
    "        extract_frame(frame, content_list, video_id, frame_id)\n",
    "    \n",
    "    # Writting in the dataframe\n",
    "    annot_df = annot_df.append(content_list)\n",
    "    print(\"...Done!\")"
   ]
  },
  {
   "cell_type": "markdown",
   "metadata": {},
   "source": [
    "### 3] WIP Basic exploration"
   ]
  },
  {
   "cell_type": "code",
   "execution_count": 6,
   "metadata": {},
   "outputs": [],
   "source": [
    "import matplotlib.pyplot as plt\n",
    "import seaborn as sns"
   ]
  },
  {
   "cell_type": "code",
   "execution_count": 7,
   "metadata": {},
   "outputs": [
    {
     "name": "stdout",
     "output_type": "stream",
     "text": [
      "Shape of Dataframe: (7104, 5)\n",
      "<class 'pandas.core.frame.DataFrame'>\n",
      "Int64Index: 7104 entries, 0 to 7103\n",
      "Data columns (total 5 columns):\n",
      "video_id        7104 non-null object\n",
      "frame_id        7104 non-null object\n",
      "detected_cat    7104 non-null object\n",
      "tracking_id     7104 non-null object\n",
      "bbox            7104 non-null object\n",
      "dtypes: object(5)\n",
      "memory usage: 333.0+ KB\n",
      "None\n"
     ]
    }
   ],
   "source": [
    "print(\"Shape of Dataframe: {}\".format(annot_df.shape))\n",
    "print(annot_df.info())"
   ]
  },
  {
   "cell_type": "code",
   "execution_count": 8,
   "metadata": {},
   "outputs": [],
   "source": [
    "# Generate area and ratio features\n",
    "annot_df['area'] = (annot_df.bbox.str[2] - annot_df.bbox.str[0])*(annot_df.bbox.str[3] - annot_df.bbox.str[1])\n",
    "annot_df['ratio'] = round(annot_df['area'] / IMAGE_AREA * 100, 4) "
   ]
  },
  {
   "cell_type": "code",
   "execution_count": 9,
   "metadata": {},
   "outputs": [
    {
     "data": {
      "text/html": [
       "<div>\n",
       "<style scoped>\n",
       "    .dataframe tbody tr th:only-of-type {\n",
       "        vertical-align: middle;\n",
       "    }\n",
       "\n",
       "    .dataframe tbody tr th {\n",
       "        vertical-align: top;\n",
       "    }\n",
       "\n",
       "    .dataframe thead th {\n",
       "        text-align: right;\n",
       "    }\n",
       "</style>\n",
       "<table border=\"1\" class=\"dataframe\">\n",
       "  <thead>\n",
       "    <tr style=\"text-align: right;\">\n",
       "      <th></th>\n",
       "      <th>video_id</th>\n",
       "      <th>frame_id</th>\n",
       "      <th>detected_cat</th>\n",
       "      <th>tracking_id</th>\n",
       "      <th>bbox</th>\n",
       "      <th>area</th>\n",
       "      <th>ratio</th>\n",
       "    </tr>\n",
       "  </thead>\n",
       "  <tbody>\n",
       "    <tr>\n",
       "      <th>0</th>\n",
       "      <td>10</td>\n",
       "      <td>0</td>\n",
       "      <td>Car</td>\n",
       "      <td>5846</td>\n",
       "      <td>[1073, 542, 1146, 613]</td>\n",
       "      <td>5183</td>\n",
       "      <td>0.2202</td>\n",
       "    </tr>\n",
       "    <tr>\n",
       "      <th>1</th>\n",
       "      <td>10</td>\n",
       "      <td>0</td>\n",
       "      <td>Car</td>\n",
       "      <td>5686</td>\n",
       "      <td>[883, 561, 1008, 662]</td>\n",
       "      <td>12625</td>\n",
       "      <td>0.5363</td>\n",
       "    </tr>\n",
       "    <tr>\n",
       "      <th>2</th>\n",
       "      <td>10</td>\n",
       "      <td>0</td>\n",
       "      <td>Car</td>\n",
       "      <td>5840</td>\n",
       "      <td>[714, 542, 782, 598]</td>\n",
       "      <td>3808</td>\n",
       "      <td>0.1618</td>\n",
       "    </tr>\n",
       "    <tr>\n",
       "      <th>3</th>\n",
       "      <td>10</td>\n",
       "      <td>0</td>\n",
       "      <td>Car</td>\n",
       "      <td>5847</td>\n",
       "      <td>[1041, 557, 1076, 585]</td>\n",
       "      <td>980</td>\n",
       "      <td>0.0416</td>\n",
       "    </tr>\n",
       "    <tr>\n",
       "      <th>4</th>\n",
       "      <td>10</td>\n",
       "      <td>0</td>\n",
       "      <td>Car</td>\n",
       "      <td>5842</td>\n",
       "      <td>[998, 549, 1025, 589]</td>\n",
       "      <td>1080</td>\n",
       "      <td>0.0459</td>\n",
       "    </tr>\n",
       "  </tbody>\n",
       "</table>\n",
       "</div>"
      ],
      "text/plain": [
       "  video_id frame_id detected_cat tracking_id                    bbox   area  \\\n",
       "0       10        0          Car        5846  [1073, 542, 1146, 613]   5183   \n",
       "1       10        0          Car        5686   [883, 561, 1008, 662]  12625   \n",
       "2       10        0          Car        5840    [714, 542, 782, 598]   3808   \n",
       "3       10        0          Car        5847  [1041, 557, 1076, 585]    980   \n",
       "4       10        0          Car        5842   [998, 549, 1025, 589]   1080   \n",
       "\n",
       "    ratio  \n",
       "0  0.2202  \n",
       "1  0.5363  \n",
       "2  0.1618  \n",
       "3  0.0416  \n",
       "4  0.0459  "
      ]
     },
     "execution_count": 9,
     "metadata": {},
     "output_type": "execute_result"
    }
   ],
   "source": [
    "annot_df.head()"
   ]
  },
  {
   "cell_type": "code",
   "execution_count": 10,
   "metadata": {},
   "outputs": [
    {
     "name": "stdout",
     "output_type": "stream",
     "text": [
      "Detection by frame: average: 11.84 | max: 35 | min: 3\n"
     ]
    }
   ],
   "source": [
    "# How many object by frame ?\n",
    "max_detected = annot_df.groupby('frame_id').detected_cat.count().max()\n",
    "min_detected = annot_df.groupby('frame_id').detected_cat.count().min()\n",
    "ave_detected = annot_df.groupby('frame_id').detected_cat.count().mean()\n",
    "print(\"Detection by frame: average: {} | max: {} | min: {}\".format(ave_detected, max_detected, min_detected))"
   ]
  },
  {
   "cell_type": "code",
   "execution_count": 11,
   "metadata": {},
   "outputs": [
    {
     "data": {
      "text/plain": [
       "<matplotlib.axes._subplots.AxesSubplot at 0x7f8f61589630>"
      ]
     },
     "execution_count": 11,
     "metadata": {},
     "output_type": "execute_result"
    },
    {
     "data": {
      "image/png": "[encoded data removed]",
      "text/plain": [
       "<Figure size 432x288 with 1 Axes>"
      ]
     },
     "metadata": {
      "needs_background": "light"
     },
     "output_type": "display_data"
    }
   ],
   "source": [
    "annot_df['detected_cat'].value_counts().plot(kind='bar',x='cat',y='count', title=\"Detected on all video - tracking id ignored\")"
   ]
  },
  {
   "cell_type": "code",
   "execution_count": 12,
   "metadata": {},
   "outputs": [
    {
     "data": {
      "text/plain": [
       "detected_cat\n",
       "Bicycle       0.257084\n",
       "Bus           2.427619\n",
       "Car           0.724536\n",
       "Motorbike     0.366786\n",
       "Pedestrian    0.122888\n",
       "Signal        0.048904\n",
       "Signs         0.062389\n",
       "Svehicle      2.253606\n",
       "Truck         1.133390\n",
       "Name: ratio, dtype: float64"
      ]
     },
     "execution_count": 12,
     "metadata": {},
     "output_type": "execute_result"
    }
   ],
   "source": [
    "# Average ratio bbox by class\n",
    "annot_df.groupby('detected_cat').ratio.mean()"
   ]
  },
  {
   "cell_type": "code",
   "execution_count": 13,
   "metadata": {},
   "outputs": [
    {
     "name": "stdout",
     "output_type": "stream",
     "text": [
      "This video contains 483 distincs objects\n"
     ]
    }
   ],
   "source": [
    "# Find unique ID\n",
    "unique_id = annot_df['tracking_id'].nunique()\n",
    "print(\"This video contains {} distincs objects\".format(unique_id))"
   ]
  },
  {
   "cell_type": "code",
   "execution_count": 14,
   "metadata": {
    "scrolled": true
   },
   "outputs": [
    {
     "name": "stdout",
     "output_type": "stream",
     "text": [
      "There are 91 objects that are not repeated more than 3 times.\n"
     ]
    }
   ],
   "source": [
    "# Count repeated tracking id\n",
    "# \"Objects with 3 or more frames in each video\"\n",
    "reapeate_more_than_3 = annot_df.groupby('tracking_id').tracking_id.count().apply(lambda x: True if x>2 else False)\n",
    "print(\"There are {} objects that are not repeated more than 3 times.\".format(reapeate_more_than_3.values.tolist().count(False)))"
   ]
  },
  {
   "cell_type": "code",
   "execution_count": 15,
   "metadata": {},
   "outputs": [
    {
     "data": {
      "text/plain": [
       "tracking_id\n",
       "5686     600\n",
       "38704    181\n",
       "204      173\n",
       "680       88\n",
       "5904      79\n",
       "681       78\n",
       "202       69\n",
       "218       68\n",
       "5880      68\n",
       "670       67\n",
       "Name: tracking_id, dtype: int64"
      ]
     },
     "execution_count": 15,
     "metadata": {},
     "output_type": "execute_result"
    }
   ],
   "source": [
    "# Longuest repeatition\n",
    "annot_df.groupby('tracking_id').tracking_id.count().nlargest(10)"
   ]
  },
  {
   "cell_type": "code",
   "execution_count": 16,
   "metadata": {},
   "outputs": [
    {
     "name": "stdout",
     "output_type": "stream",
     "text": [
      "One car is tracked in all frame of the video - maybe need to check the video\n"
     ]
    },
    {
     "data": {
      "text/html": [
       "<div>\n",
       "<style scoped>\n",
       "    .dataframe tbody tr th:only-of-type {\n",
       "        vertical-align: middle;\n",
       "    }\n",
       "\n",
       "    .dataframe tbody tr th {\n",
       "        vertical-align: top;\n",
       "    }\n",
       "\n",
       "    .dataframe thead th {\n",
       "        text-align: right;\n",
       "    }\n",
       "</style>\n",
       "<table border=\"1\" class=\"dataframe\">\n",
       "  <thead>\n",
       "    <tr style=\"text-align: right;\">\n",
       "      <th></th>\n",
       "      <th>video_id</th>\n",
       "      <th>frame_id</th>\n",
       "      <th>detected_cat</th>\n",
       "      <th>tracking_id</th>\n",
       "      <th>bbox</th>\n",
       "      <th>area</th>\n",
       "      <th>ratio</th>\n",
       "    </tr>\n",
       "  </thead>\n",
       "  <tbody>\n",
       "    <tr>\n",
       "      <th>1</th>\n",
       "      <td>10</td>\n",
       "      <td>0</td>\n",
       "      <td>Car</td>\n",
       "      <td>5686</td>\n",
       "      <td>[883, 561, 1008, 662]</td>\n",
       "      <td>12625</td>\n",
       "      <td>0.5363</td>\n",
       "    </tr>\n",
       "    <tr>\n",
       "      <th>17</th>\n",
       "      <td>10</td>\n",
       "      <td>1</td>\n",
       "      <td>Car</td>\n",
       "      <td>5686</td>\n",
       "      <td>[885, 583, 1006, 690]</td>\n",
       "      <td>12947</td>\n",
       "      <td>0.5500</td>\n",
       "    </tr>\n",
       "    <tr>\n",
       "      <th>40</th>\n",
       "      <td>10</td>\n",
       "      <td>2</td>\n",
       "      <td>Car</td>\n",
       "      <td>5686</td>\n",
       "      <td>[880, 589, 1009, 690]</td>\n",
       "      <td>13029</td>\n",
       "      <td>0.5534</td>\n",
       "    </tr>\n",
       "    <tr>\n",
       "      <th>60</th>\n",
       "      <td>10</td>\n",
       "      <td>3</td>\n",
       "      <td>Car</td>\n",
       "      <td>5686</td>\n",
       "      <td>[881, 583, 1011, 688]</td>\n",
       "      <td>13650</td>\n",
       "      <td>0.5798</td>\n",
       "    </tr>\n",
       "    <tr>\n",
       "      <th>79</th>\n",
       "      <td>10</td>\n",
       "      <td>4</td>\n",
       "      <td>Car</td>\n",
       "      <td>5686</td>\n",
       "      <td>[884, 582, 1014, 688]</td>\n",
       "      <td>13780</td>\n",
       "      <td>0.5853</td>\n",
       "    </tr>\n",
       "  </tbody>\n",
       "</table>\n",
       "</div>"
      ],
      "text/plain": [
       "   video_id frame_id detected_cat tracking_id                   bbox   area  \\\n",
       "1        10        0          Car        5686  [883, 561, 1008, 662]  12625   \n",
       "17       10        1          Car        5686  [885, 583, 1006, 690]  12947   \n",
       "40       10        2          Car        5686  [880, 589, 1009, 690]  13029   \n",
       "60       10        3          Car        5686  [881, 583, 1011, 688]  13650   \n",
       "79       10        4          Car        5686  [884, 582, 1014, 688]  13780   \n",
       "\n",
       "     ratio  \n",
       "1   0.5363  \n",
       "17  0.5500  \n",
       "40  0.5534  \n",
       "60  0.5798  \n",
       "79  0.5853  "
      ]
     },
     "execution_count": 16,
     "metadata": {},
     "output_type": "execute_result"
    }
   ],
   "source": [
    "print(\"One car is tracked in all frame of the video - maybe need to check the video\")\n",
    "annot_df.loc[annot_df['tracking_id'] == 5686].head()"
   ]
  },
  {
   "cell_type": "code",
   "execution_count": 17,
   "metadata": {},
   "outputs": [],
   "source": [
    "# Other analysis?\n",
    "# - tracking id lenght / class\n",
    "# - ??"
   ]
  }
 ],
 "metadata": {
  "kernelspec": {
   "display_name": "Python 3",
   "language": "python",
   "name": "python3"
  },
  "language_info": {
   "codemirror_mode": {
    "name": "ipython",
    "version": 3
   },
   "file_extension": ".py",
   "mimetype": "text/x-python",
   "name": "python",
   "nbconvert_exporter": "python",
   "pygments_lexer": "ipython3",
   "version": "3.6.8"
  }
 },
 "nbformat": 4,
 "nbformat_minor": 2
}
