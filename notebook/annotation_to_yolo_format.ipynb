{
 "cells": [
  {
   "cell_type": "code",
   "execution_count": null,
   "metadata": {},
   "outputs": [],
   "source": [
    "# Convert to YOLO format\n",
    "# Fork from: https://signate.jp/competitions/256/discussions/tutorial-how-to-convert-labels-from-multiple-jsons-to-a-single-txt-file\n",
    "import os\n",
    "import json\n",
    "import random"
   ]
  },
  {
   "cell_type": "code",
   "execution_count": null,
   "metadata": {},
   "outputs": [],
   "source": [
    "# Get path\n",
    "path_labels    = '../data/train_annotations'      \n",
    "path_images    = '../data/train_images'\n",
    "path_out_file  = '../data/yolo_format_training.txt'\n",
    "\n",
    "# Define classes as array\n",
    "classes = ['Car', 'Pedestrian', 'Truck', 'Signal', 'Signs', 'Bicycle', 'Motorbike', 'Bus', 'Svehicle', 'Train']\n",
    "\n",
    "# Image size:\n",
    "WITH = 1936\n",
    "HEIGHT = 1216"
   ]
  },
  {
   "cell_type": "code",
   "execution_count": null,
   "metadata": {},
   "outputs": [],
   "source": [
    "# Yolo format (https://github.com/AlexeyAB/darknet#how-to-train-to-detect-your-custom-objects)\n",
    "def normalize_bbox(annot_bbox):\n",
    "    \"\"\"Normalize position over image size.\"\"\"\n",
    "    annot_bbox[0] = float(annot_bbox[0] / WITH)\n",
    "    annot_bbox[1] = float(annot_bbox[1] / HEIGHT)\n",
    "    annot_bbox[2] = float(annot_bbox[2] / WITH)\n",
    "    annot_bbox[3] = float(annot_bbox[3] / HEIGHT)\n",
    "    return(annot_bbox)\n",
    "\n",
    "def to_yolo_bbox(annot_bbox):\n",
    "    \"\"\"Convert XML bbox to yolo format.\"\"\"\n",
    "    normalized_bbox = normalize_bbox(annot_bbox)\n",
    "    yolo_w = normalized_bbox[2] - normalized_bbox[0]\n",
    "    yolo_h = normalized_bbox[3] - normalized_bbox[1]\n",
    "    X = normalized_bbox[0] + (yolo_w*0.5)\n",
    "    Y = normalized_bbox[1] + (yolo_h*0.5)\n",
    "    return([X, Y, yolo_h, yolo_h])\n",
    "\n",
    "def generate_yolo_label(annot_bbox, classe):\n",
    "    \"\"\"Generate yolo format as string.\"\"\"\n",
    "    yolo_bbox = to_yolo_bbox(annot_bbox)\n",
    "    label_to_write = str(classe) + ' ' + \\\n",
    "                        str(yolo_bbox[0]) + ' ' + \\\n",
    "                        str(yolo_bbox[1]) + ' ' + \\\n",
    "                        str(yolo_bbox[2]) + ' ' + \\\n",
    "                        str(yolo_bbox[3])\n",
    "    return(label_to_write)"
   ]
  },
  {
   "cell_type": "code",
   "execution_count": null,
   "metadata": {
    "scrolled": true
   },
   "outputs": [],
   "source": [
    "out_file    = open(path_out_file, \"w\")\n",
    "annotations = os.listdir(path_labels)\n",
    "\n",
    "for i in range (0, len(annotations)): #here we browse all videos\n",
    "    video_name = annotations[i].split('/')[-1].split('\\\\')[-1].split('.')[0]\n",
    "    data       = json.load(open(os.path.join(path_labels, annotations[i])))\n",
    "    print(video_name)\n",
    "    \n",
    "    for v in range (0,600): #here we browse all frames. Single movie has 600 frames\n",
    "        img_name     = path_images+'/'+video_name+'/'+str(v)+\".png\"\n",
    "        labels       = data['sequence'][v]\n",
    "        str_to_write = img_name\n",
    "        for c in range (0, len(classes)):\n",
    "            try:\n",
    "                for inst in data['sequence'][v][classes[c]]:\n",
    "                    box           = inst['box2d']\n",
    "                    str_to_write += ';' + generate_yolo_label(box, c)\n",
    "            except Exception as e:\n",
    "                continue #nothing, the class is just not presented in the frame\n",
    "         \n",
    "        if str_to_write != img_name: #we do not want to write images without annotations\n",
    "            out_file.write(str_to_write+'\\n')\n",
    "        \n",
    "out_file.close() "
   ]
  },
  {
   "cell_type": "code",
   "execution_count": null,
   "metadata": {},
   "outputs": [],
   "source": [
    "len(out_file)"
   ]
  },
  {
   "cell_type": "markdown",
   "metadata": {},
   "source": [
    "### Prepare for training\n",
    "- 1 image 1 file\n",
    "- Split train/validation\n",
    "- Yolo's training files (names, data, ...)"
   ]
  },
  {
   "cell_type": "code",
   "execution_count": null,
   "metadata": {},
   "outputs": [],
   "source": [
    "def generate_yolo_labels(name, annots):\n",
    "    \"\"\"Generate label for individual image in YOLO format.\"\"\"\n",
    "    label_name = name.split('png')[0] + 'txt'\n",
    "    label_file = open(label_name, 'w+')\n",
    "    for annot in annots:\n",
    "        label_file.write(annot + '\\n')\n",
    "\n",
    "    label_file.close()\n",
    "    return(0)"
   ]
  },
  {
   "cell_type": "code",
   "execution_count": null,
   "metadata": {},
   "outputs": [],
   "source": [
    "# Label file generation\n",
    "list_image = []\n",
    "with open(path_out_file, 'r') as yolo_labels:\n",
    "    labels = yolo_labels.readline()\n",
    "    while labels:\n",
    "        # Get label content\n",
    "        image_name = labels.split(';')[0]\n",
    "        annots = labels.split(\";\")[1:]\n",
    "        \n",
    "        # Generate individual label\n",
    "        generate_yolo_labels(image_name, annots)\n",
    "\n",
    "        # Add name to list\n",
    "        list_image.append(image_name)\n",
    "        labels = yolo_labels.readline()"
   ]
  },
  {
   "cell_type": "code",
   "execution_count": null,
   "metadata": {},
   "outputs": [],
   "source": [
    "# Split train-validation\n",
    "nb_images = len(list_image)\n",
    "ratio = 0.2\n",
    "validation_size = int(ratio * nb_images)\n",
    "valid_index = random.sample(range(nb_images), k=validation_size)\n",
    "\n",
    "## Split images_set\n",
    "train_set = []\n",
    "valid_set = []\n",
    "index = 0\n",
    "\n",
    "for image in list_image:\n",
    "    if index in valid_index:\n",
    "        valid_set.append(image)\n",
    "    else:\n",
    "        train_set.append(image)\n",
    "    index += 1\n",
    "    \n",
    "## Display\n",
    "print(\"Dataset images numbers {} ({} datasets)\".format(nb_images, int(nb_images/600)))\n",
    "print(\"Train: {} / Valid {} images.\".format(len(train_set), len(valid_set)))"
   ]
  },
  {
   "cell_type": "code",
   "execution_count": null,
   "metadata": {},
   "outputs": [],
   "source": [
    "# Generata YOLO file for training\n",
    "#path_relatif to darknet (src/darknet)\n",
    "darknet_relatif = \"../\"\n",
    "\n",
    "# train_file\n",
    "with open('signate_train.txt', 'w+') as train_file:\n",
    "    for img in train_set:\n",
    "        train_file.write(darknet_relatif + img + '\\n')\n",
    "\n",
    "train_file.close()\n",
    "\n",
    "# valid_file\n",
    "with open('signate_val.txt', 'w+') as val_file:\n",
    "    for img in valid_set:\n",
    "        val_file.write(darknet_relatif + img + '\\n')\n",
    "\n",
    "val_file.close()"
   ]
  },
  {
   "cell_type": "code",
   "execution_count": null,
   "metadata": {},
   "outputs": [],
   "source": [
    "# Modify yolo head and training parameters:\n",
    "filters = (len(classes) + 5) * 3\n",
    "max_batch = 2000*len(classes)\n",
    "steps = (max_batch*0.8, max_batch*0.9)\n",
    "print(\"Change in yolov4.cfg: classes={} / filters={}\".format(len(classes), filters))\n",
    "print(\"Recommended batch: {} with steps {}\".format(max_batch, steps))"
   ]
  },
  {
   "cell_type": "markdown",
   "metadata": {},
   "source": [
    "### Run training wiht\n",
    "```shell\n",
    "./darknet detector train signate_training/signate.data signate_training/yolov4-signate.cfg yolov4.conv.137 --map > signate_training/train.log\n",
    "```"
   ]
  }
 ],
 "metadata": {
  "kernelspec": {
   "display_name": "Python 3",
   "language": "python",
   "name": "python3"
  },
  "language_info": {
   "codemirror_mode": {
    "name": "ipython",
    "version": 3
   },
   "file_extension": ".py",
   "mimetype": "text/x-python",
   "name": "python",
   "nbconvert_exporter": "python",
   "pygments_lexer": "ipython3",
   "version": "3.6.8"
  }
 },
 "nbformat": 4,
 "nbformat_minor": 2
}
